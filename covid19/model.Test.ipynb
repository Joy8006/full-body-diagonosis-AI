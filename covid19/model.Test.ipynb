{
 "cells": [
  {
   "cell_type": "code",
   "execution_count": 10,
   "metadata": {},
   "outputs": [],
   "source": [
    "import cv2\n",
    "from keras.models import load_model\n",
    "import numpy as np\n",
    "from PIL import Image"
   ]
  },
  {
   "cell_type": "code",
   "execution_count": 11,
   "metadata": {},
   "outputs": [],
   "source": [
    "model = load_model('CovidDetection10Epochs.h5')"
   ]
  },
  {
   "cell_type": "code",
   "execution_count": 12,
   "metadata": {},
   "outputs": [
    {
     "name": "stdout",
     "output_type": "stream",
     "text": [
      "Congratulations!! You are safe from covid\n"
     ]
    }
   ],
   "source": [
    "image = cv2.imread(r'D:\\Research\\full-body-diagonosis-AI\\covid19\\Data\\Normal\\IM-0235-0001.jpeg')\n",
    "img = Image.fromarray(image)\n",
    "image = img.resize((64,64))\n",
    "image = np.array(image)\n",
    "\n",
    "input_image = np.expand_dims(image, axis=0)\n",
    "\n",
    "prediction = model.predict(input_image)\n",
    "if(prediction>=0.5):\n",
    "    print(\"Sorry to say that, you are affected with the virus\")\n",
    "elif(prediction<0.5):\n",
    "    print(\"Congratulations!! You are safe from covid\")"
   ]
  }
 ],
 "metadata": {
  "interpreter": {
   "hash": "8860c5a2a70cad65c4a4f551bdb0e44edb7c75fe3e6ee64cbfce63c1c9f89b27"
  },
  "kernelspec": {
   "display_name": "Python 3.9.12 64-bit (windows store)",
   "language": "python",
   "name": "python3"
  },
  "language_info": {
   "codemirror_mode": {
    "name": "ipython",
    "version": 3
   },
   "file_extension": ".py",
   "mimetype": "text/x-python",
   "name": "python",
   "nbconvert_exporter": "python",
   "pygments_lexer": "ipython3",
   "version": "3.9.12"
  },
  "orig_nbformat": 4
 },
 "nbformat": 4,
 "nbformat_minor": 2
}
