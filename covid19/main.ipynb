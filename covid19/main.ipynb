{
 "cells": [
  {
   "cell_type": "code",
   "execution_count": 2,
   "metadata": {},
   "outputs": [],
   "source": [
    "import cv2\n",
    "import os\n",
    "from PIL import Image\n",
    "import numpy as np\n",
    "from sklearn.model_selection import train_test_split\n",
    "import tensorflow as tf\n",
    "from tensorflow import keras\n",
    "from keras.utils.np_utils import normalize\n",
    "from keras.models import Sequential\n",
    "\n",
    "from keras.layers import Conv2D, MaxPooling2D, Activation, Dropout, Flatten, Dense\n"
   ]
  },
  {
   "cell_type": "code",
   "execution_count": 3,
   "metadata": {},
   "outputs": [],
   "source": [
    "img_dir = 'Data/'\n",
    "\n",
    "tumor_img = os.listdir(img_dir + 'Covid/')\n",
    "non_tumor_img = os.listdir(img_dir + 'Normal/')\n",
    "\n",
    "dataset = []\n",
    "label = []\n",
    "\n",
    "\n",
    "for i , image_name in enumerate(tumor_img):\n",
    "    if(image_name.split('.')[1] == 'jpeg'or image_name.split('.')[1] == 'jpg'):\n",
    "        image = cv2.imread(img_dir + 'Covid/' + image_name)\n",
    "        image = Image.fromarray(image, 'RGB')\n",
    "        image = image.resize((64, 64))\n",
    "        dataset.append(np.array(image))\n",
    "        label.append(1)\n",
    "\n",
    "for i , image_name in enumerate(non_tumor_img):\n",
    "    if(image_name.split('.')[1] == 'jpeg'or image_name.split('.')[1] == 'jpg'):\n",
    "        image = cv2.imread(img_dir + 'Normal/' + image_name)\n",
    "        image = Image.fromarray(image, 'RGB')\n",
    "        image = image.resize((64, 64))\n",
    "        dataset.append(np.array(image))\n",
    "        label.append(0)\n",
    "        "
   ]
  },
  {
   "cell_type": "code",
   "execution_count": 4,
   "metadata": {},
   "outputs": [],
   "source": [
    "dataset = np.array(dataset)\n",
    "label = np.array(label)"
   ]
  },
  {
   "cell_type": "code",
   "execution_count": 5,
   "metadata": {},
   "outputs": [
    {
     "name": "stdout",
     "output_type": "stream",
     "text": [
      "(196, 64, 64, 3)\n",
      "(49, 64, 64, 3)\n",
      "(196,)\n",
      "(49,)\n"
     ]
    }
   ],
   "source": [
    "x_train, x_test, y_train, y_test = train_test_split(dataset, label, test_size=0.2, random_state=0)\n",
    "print(x_train.shape)\n",
    "print(x_test.shape)\n",
    "print(y_train.shape)\n",
    "print(y_test.shape)"
   ]
  },
  {
   "cell_type": "code",
   "execution_count": 6,
   "metadata": {},
   "outputs": [],
   "source": [
    "x_train = normalize(x_train, axis= 1)\n",
    "x_test = normalize(x_test, axis= 1)\n",
    "# y_train = np.asarray(y_train).astype('float32').reshape((-1,1))\n",
    "# y_test = np.asarray(y_test).astype('float32').reshape((-1,1))\n",
    "input_size = 64\n"
   ]
  },
  {
   "cell_type": "code",
   "execution_count": 7,
   "metadata": {},
   "outputs": [],
   "source": [
    "model = Sequential()\n",
    "\n",
    "\n",
    "model.add(Conv2D(32, (3,3),input_shape = (input_size, input_size, 3)))\n",
    "model.add(Activation('relu'))\n",
    "model.add(MaxPooling2D(pool_size=(2,2)))\n",
    "\n",
    "model.add(Conv2D(32, (3,3), kernel_initializer= 'he_uniform'))\n",
    "model.add(Activation('relu'))\n",
    "model.add(MaxPooling2D(pool_size=(2,2)))\n",
    "\n",
    "model.add(Conv2D(64, (3,3), kernel_initializer= 'he_uniform'))\n",
    "model.add(Activation('relu'))\n",
    "model.add(MaxPooling2D(pool_size=(2,2)))\n",
    "model.add(Flatten())\n",
    "model.add(Dense(64))\n",
    "model.add(Activation('relu'))\n",
    "model.add(Dropout(0.5))\n",
    "model.add(Dense(1))\n",
    "model.add(Activation('sigmoid'))\n",
    "model.add(Flatten())\n"
   ]
  },
  {
   "cell_type": "code",
   "execution_count": 8,
   "metadata": {},
   "outputs": [],
   "source": [
    "model.compile(loss='binary_crossentropy', optimizer='adam', metrics=['accuracy'])"
   ]
  },
  {
   "cell_type": "code",
   "execution_count": 9,
   "metadata": {},
   "outputs": [
    {
     "name": "stdout",
     "output_type": "stream",
     "text": [
      "Epoch 1/10\n",
      "13/13 [==============================] - 2s 83ms/step - loss: 0.6663 - accuracy: 0.5663 - val_loss: 0.6012 - val_accuracy: 0.6327\n",
      "Epoch 2/10\n",
      "13/13 [==============================] - 1s 76ms/step - loss: 0.6205 - accuracy: 0.6480 - val_loss: 0.5244 - val_accuracy: 0.6327\n",
      "Epoch 3/10\n",
      "13/13 [==============================] - 1s 75ms/step - loss: 0.4830 - accuracy: 0.7500 - val_loss: 0.2649 - val_accuracy: 1.0000\n",
      "Epoch 4/10\n",
      "13/13 [==============================] - 1s 79ms/step - loss: 0.2490 - accuracy: 0.9235 - val_loss: 0.0968 - val_accuracy: 1.0000\n",
      "Epoch 5/10\n",
      "13/13 [==============================] - 1s 68ms/step - loss: 0.1865 - accuracy: 0.9286 - val_loss: 0.0865 - val_accuracy: 1.0000\n",
      "Epoch 6/10\n",
      "13/13 [==============================] - 1s 76ms/step - loss: 0.1633 - accuracy: 0.9439 - val_loss: 0.0703 - val_accuracy: 0.9796\n",
      "Epoch 7/10\n",
      "13/13 [==============================] - 1s 85ms/step - loss: 0.1401 - accuracy: 0.9541 - val_loss: 0.0601 - val_accuracy: 1.0000\n",
      "Epoch 8/10\n",
      "13/13 [==============================] - 1s 81ms/step - loss: 0.1152 - accuracy: 0.9694 - val_loss: 0.0155 - val_accuracy: 1.0000\n",
      "Epoch 9/10\n",
      "13/13 [==============================] - 1s 96ms/step - loss: 0.1174 - accuracy: 0.9490 - val_loss: 0.0150 - val_accuracy: 1.0000\n",
      "Epoch 10/10\n",
      "13/13 [==============================] - 1s 81ms/step - loss: 0.0887 - accuracy: 0.9745 - val_loss: 0.0257 - val_accuracy: 1.0000\n"
     ]
    }
   ],
   "source": [
    "model.fit(x_train, y_train, batch_size=16, verbose= 1, epochs= 10, validation_data=(x_test,y_test), shuffle= False)\n",
    "model.save('CovidDetection10Epochs.h5')"
   ]
  }
 ],
 "metadata": {
  "interpreter": {
   "hash": "8860c5a2a70cad65c4a4f551bdb0e44edb7c75fe3e6ee64cbfce63c1c9f89b27"
  },
  "kernelspec": {
   "display_name": "Python 3.9.12 64-bit (windows store)",
   "language": "python",
   "name": "python3"
  },
  "language_info": {
   "codemirror_mode": {
    "name": "ipython",
    "version": 3
   },
   "file_extension": ".py",
   "mimetype": "text/x-python",
   "name": "python",
   "nbconvert_exporter": "python",
   "pygments_lexer": "ipython3",
   "version": "3.9.12"
  },
  "orig_nbformat": 4
 },
 "nbformat": 4,
 "nbformat_minor": 2
}
