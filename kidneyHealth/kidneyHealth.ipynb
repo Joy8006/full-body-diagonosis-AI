{
 "cells": [
  {
   "cell_type": "code",
   "execution_count": 45,
   "metadata": {},
   "outputs": [
    {
     "name": "stdout",
     "output_type": "stream",
     "text": [
      "Your ACR value is 300.0                           Normal Range : less than 30\n",
      "Your GFR value is 12.0                           Normal Range : greater than 90\n",
      "Your Serum Creatinine value is 1.8              Normal Range : less than 1.3\n",
      "Kidney Health 10.0 %\n"
     ]
    },
    {
     "data": {
      "text/plain": [
       "1"
      ]
     },
     "execution_count": 45,
     "metadata": {},
     "output_type": "execute_result"
    }
   ],
   "source": [
    "ACR = float(input(\"ACR : \"))\n",
    "GFR = float(input(\"GFR : \"))\n",
    "SerumCreatinine = float(input(\"Serum Creatinine : \"))\n",
    "\n",
    "kh = 0\n",
    "####### ACR ########\n",
    "if (ACR <= 30):\n",
    "    kh = kh + 3\n",
    "    \n",
    "if (ACR > 30 and ACR < 300):\n",
    "    kh = kh + 1\n",
    "    \n",
    "\n",
    "if (ACR >= 300):\n",
    "    kh = kh + 0\n",
    "    \n",
    "\n",
    "####### GFR ########\n",
    "if (GFR >= 90):\n",
    "    kh = kh + 4\n",
    "    \n",
    "\n",
    "if (GFR < 90 and GFR >= 60):\n",
    "    kh = kh + 2\n",
    "    \n",
    "\n",
    "if (GFR < 60 and GFR >= 15):\n",
    "    kh = kh + 1\n",
    "    \n",
    "\n",
    "if (GFR < 15):\n",
    "    kh = kh + 0\n",
    "    \n",
    "\n",
    "# Serum Creatinine #\n",
    "if (SerumCreatinine <= 1.3):\n",
    "    kh = kh + 3\n",
    "    \n",
    "\n",
    "if (SerumCreatinine > 1.3 and SerumCreatinine <= 10):\n",
    "    kh = kh + 1\n",
    "    \n",
    "\n",
    "if (SerumCreatinine > 10):\n",
    "    kh = kh + 0\n",
    "    \n",
    "\n",
    "\n",
    "wp = (kh/10)*100\n",
    "\n",
    "print(\"Your ACR value is {}                           Normal Range : less than 30\".format(ACR))\n",
    "print(\"Your GFR value is {}                           Normal Range : greater than 90\".format(GFR))\n",
    "print(\"Your Serum Creatinine value is {}              Normal Range : less than 1.3\".format(SerumCreatinine))\n",
    "print(\"Kidney Health {} %\".format(wp))\n",
    "\n"
   ]
  }
 ],
 "metadata": {
  "interpreter": {
   "hash": "970a2a4939579a4c22872227820a264ec023ee5692739211cbaca24386397975"
  },
  "kernelspec": {
   "display_name": "Python 3.9.12 64-bit (windows store)",
   "language": "python",
   "name": "python3"
  },
  "language_info": {
   "codemirror_mode": {
    "name": "ipython",
    "version": 3
   },
   "file_extension": ".py",
   "mimetype": "text/x-python",
   "name": "python",
   "nbconvert_exporter": "python",
   "pygments_lexer": "ipython3",
   "version": "3.9.12"
  },
  "orig_nbformat": 4
 },
 "nbformat": 4,
 "nbformat_minor": 2
}
